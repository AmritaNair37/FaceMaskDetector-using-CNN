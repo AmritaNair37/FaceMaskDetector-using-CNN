{
 "cells": [
  {
   "cell_type": "markdown",
   "metadata": {},
   "source": [
    "# Data Preprocessing"
   ]
  },
  {
   "cell_type": "code",
   "execution_count": 1,
   "metadata": {},
   "outputs": [
    {
     "ename": "ModuleNotFoundError",
     "evalue": "No module named 'tensorflow'",
     "output_type": "error",
     "traceback": [
      "\u001b[1;31m---------------------------------------------------------------------------\u001b[0m",
      "\u001b[1;31mModuleNotFoundError\u001b[0m                       Traceback (most recent call last)",
      "\u001b[1;32m~\\AppData\\Local\\Temp/ipykernel_27188/566914023.py\u001b[0m in \u001b[0;36m<module>\u001b[1;34m\u001b[0m\n\u001b[1;32m----> 1\u001b[1;33m \u001b[1;32mimport\u001b[0m \u001b[0mtensorflow\u001b[0m \u001b[1;32mas\u001b[0m \u001b[0mtf\u001b[0m\u001b[1;33m\u001b[0m\u001b[1;33m\u001b[0m\u001b[0m\n\u001b[0m\u001b[0;32m      2\u001b[0m \u001b[1;32mimport\u001b[0m \u001b[0mcv2\u001b[0m\u001b[1;33m,\u001b[0m\u001b[0mos\u001b[0m\u001b[1;33m\u001b[0m\u001b[1;33m\u001b[0m\u001b[0m\n\u001b[0;32m      3\u001b[0m \u001b[1;32mimport\u001b[0m \u001b[0mnumpy\u001b[0m \u001b[1;32mas\u001b[0m \u001b[0mnp\u001b[0m\u001b[1;33m\u001b[0m\u001b[1;33m\u001b[0m\u001b[0m\n\u001b[0;32m      4\u001b[0m \u001b[1;32mimport\u001b[0m \u001b[0mkeras\u001b[0m\u001b[1;33m\u001b[0m\u001b[1;33m\u001b[0m\u001b[0m\n\u001b[0;32m      5\u001b[0m \u001b[1;33m\u001b[0m\u001b[0m\n",
      "\u001b[1;31mModuleNotFoundError\u001b[0m: No module named 'tensorflow'"
     ]
    }
   ],
   "source": [
    "import tensorflow as tf \n",
    "import cv2,os\n",
    "import numpy as np\n",
    "import keras\n",
    "\n",
    "data_path=r'C:\\Users\\Amrita\\Downloads\\mini project\\dataset'\n",
    "categories=os.listdir(data_path)\n",
    "labels=[i for i in range(len(categories))]\n",
    "\n",
    "label_dict=dict(zip(categories,labels))\n",
    "\n",
    "print(label_dict)\n",
    "print(categories)\n",
    "print(labels)"
   ]
  },
  {
   "cell_type": "code",
   "execution_count": null,
   "metadata": {},
   "outputs": [],
   "source": [
    "img_size=100\n",
    "data=[]\n",
    "target=[]\n",
    "\n",
    "for category in categories:\n",
    "    folder_path=os.path.join(data_path,category)\n",
    "    img_names=os.listdir(folder_path)\n",
    "        \n",
    "    for img_name in img_names:\n",
    "        img_path=os.path.join(folder_path,img_name)\n",
    "        img=cv2.imread(img_path)\n",
    "\n",
    "        try:\n",
    "            gray=cv2.cvtColor(img,cv2.COLOR_BGR2GRAY)           \n",
    "            #Converting the image into gray scale\n",
    "            resized=cv2.resize(gray,(img_size,img_size))\n",
    "            #resizing the gray scale into 100x100, since we need a fixed common size for all the images in the dataset\n",
    "            data.append(resized)\n",
    "            target.append(label_dict[category])\n",
    "            #appending the image and the label(categorized) into the list (dataset)\n",
    "\n",
    "        except Exception as e:\n",
    "            print('Exception:',e)\n",
    "            #if any exception raised, the exception will be printed here. And pass to the next image"
   ]
  },
  {
   "cell_type": "code",
   "execution_count": null,
   "metadata": {},
   "outputs": [],
   "source": [
    "import numpy as np\n",
    "from sklearn.preprocessing import LabelBinarizer\n",
    "\n",
    "from keras.utils import np_utils\n",
    "data=np.array(data)/255.0\n",
    "data=np.reshape(data,(data.shape[0],img_size,img_size,1))\n",
    "\n",
    "lb= LabelBinarizer()\n",
    "target=lb.fit_transform(target)\n",
    "target=np_utils.to_categorical(target)\n",
    "\n",
    "target=np.array(target)"
   ]
  },
  {
   "cell_type": "code",
   "execution_count": null,
   "metadata": {},
   "outputs": [],
   "source": [
    "from keras.models import Sequential\n",
    "from keras.layers import Dense,Activation,Flatten,Dropout\n",
    "from keras.layers import Conv2D,MaxPooling2D\n",
    "\n",
    "num_classes=2\n",
    "\n",
    "model=Sequential()\n",
    "model.call = tf.function(model.call)\n",
    "\n",
    "model.add(Conv2D(64,(3,3),input_shape=(img_size,img_size,1)))\n",
    "model.add(Activation('relu'))\n",
    "model.add(MaxPooling2D(pool_size=(2,2)))\n",
    "#The first CNN layer followed by Relu and MaxPooling layers\n",
    "\n",
    "model.add(Conv2D(128,(3,3)))\n",
    "model.add(Activation('relu'))\n",
    "model.add(MaxPooling2D(pool_size=(2,2)))\n",
    "#The second convolution layer followed by Relu and MaxPooling layers\n",
    "\n",
    "model.add(Flatten())\n",
    "model.add(Dropout(0.5))\n",
    "\n",
    "model.add(Dense(64,activation='relu'))\n",
    "#Dense layer of 64 neurons\n",
    "model.add(Dense(num_classes,activation='softmax'))\n",
    "#The Final layer with two outputs for two categories\n"
   ]
  },
  {
   "cell_type": "markdown",
   "metadata": {},
   "source": [
    "# training\n"
   ]
  },
  {
   "cell_type": "code",
   "execution_count": 13,
   "metadata": {},
   "outputs": [],
   "source": [
    "from tensorflow.keras.optimizers import Adam \n",
    "from keras.callbacks import ModelCheckpoint"
   ]
  },
  {
   "cell_type": "code",
   "execution_count": 14,
   "metadata": {},
   "outputs": [],
   "source": [
    "from sklearn.model_selection import train_test_split\n",
    "\n",
    "train_data,test_data,train_target,test_target=train_test_split(data,target,test_size=0.1,random_state=0)"
   ]
  },
  {
   "cell_type": "code",
   "execution_count": 15,
   "metadata": {
    "scrolled": true
   },
   "outputs": [
    {
     "name": "stdout",
     "output_type": "stream",
     "text": [
      "Train on 1403 samples, validate on 468 samples\n",
      "Epoch 1/20\n",
      "1403/1403 [==============================] - ETA: 0s - loss: 0.6595 - accuracy: 0.6957"
     ]
    },
    {
     "name": "stderr",
     "output_type": "stream",
     "text": [
      "C:\\Users\\Amrita\\AppData\\Local\\Programs\\Python\\Python310\\lib\\site-packages\\keras\\engine\\training_v1.py:2057: UserWarning: `Model.state_updates` will be removed in a future version. This property should not be used in TensorFlow 2.0, as `updates` are applied automatically.\n",
      "  updates = self.state_updates\n"
     ]
    },
    {
     "name": "stdout",
     "output_type": "stream",
     "text": [
      "INFO:tensorflow:Assets written to: model-001.model\\assets\n",
      "1403/1403 [==============================] - 16s 11ms/sample - loss: 0.6595 - accuracy: 0.6957 - val_loss: 0.4653 - val_accuracy: 0.8205\n",
      "Epoch 2/20\n",
      "1403/1403 [==============================] - ETA: 0s - loss: 0.3779 - accuracy: 0.8510INFO:tensorflow:Assets written to: model-002.model\\assets\n",
      "1403/1403 [==============================] - 16s 12ms/sample - loss: 0.3779 - accuracy: 0.8510 - val_loss: 0.3021 - val_accuracy: 0.8632\n",
      "Epoch 3/20\n",
      "1403/1403 [==============================] - ETA: 0s - loss: 0.2424 - accuracy: 0.9052INFO:tensorflow:Assets written to: model-003.model\\assets\n",
      "1403/1403 [==============================] - 19s 13ms/sample - loss: 0.2424 - accuracy: 0.9052 - val_loss: 0.2197 - val_accuracy: 0.9188\n",
      "Epoch 4/20\n",
      "1403/1403 [==============================] - ETA: 0s - loss: 0.1788 - accuracy: 0.9266INFO:tensorflow:Assets written to: model-004.model\\assets\n",
      "1403/1403 [==============================] - 19s 14ms/sample - loss: 0.1788 - accuracy: 0.9266 - val_loss: 0.1932 - val_accuracy: 0.9231\n",
      "Epoch 5/20\n",
      "1403/1403 [==============================] - ETA: 0s - loss: 0.1229 - accuracy: 0.9572INFO:tensorflow:Assets written to: model-005.model\\assets\n",
      "1403/1403 [==============================] - 19s 14ms/sample - loss: 0.1229 - accuracy: 0.9572 - val_loss: 0.1542 - val_accuracy: 0.9423\n",
      "Epoch 6/20\n",
      "1403/1403 [==============================] - ETA: 0s - loss: 0.0923 - accuracy: 0.9644INFO:tensorflow:Assets written to: model-006.model\\assets\n",
      "1403/1403 [==============================] - 19s 14ms/sample - loss: 0.0923 - accuracy: 0.9644 - val_loss: 0.1474 - val_accuracy: 0.9402\n",
      "Epoch 7/20\n",
      "1403/1403 [==============================] - 18s 13ms/sample - loss: 0.0772 - accuracy: 0.9786 - val_loss: 0.1524 - val_accuracy: 0.9530\n",
      "Epoch 8/20\n",
      "1403/1403 [==============================] - 18s 13ms/sample - loss: 0.0480 - accuracy: 0.9815 - val_loss: 0.1547 - val_accuracy: 0.9487\n",
      "Epoch 9/20\n",
      "1403/1403 [==============================] - 18s 13ms/sample - loss: 0.0370 - accuracy: 0.9872 - val_loss: 0.1579 - val_accuracy: 0.9573\n",
      "Epoch 10/20\n",
      "1403/1403 [==============================] - 18s 13ms/sample - loss: 0.0325 - accuracy: 0.9893 - val_loss: 0.2070 - val_accuracy: 0.9402\n",
      "Epoch 11/20\n",
      "1403/1403 [==============================] - 18s 13ms/sample - loss: 0.0246 - accuracy: 0.9936 - val_loss: 0.1650 - val_accuracy: 0.9509\n",
      "Epoch 12/20\n",
      "1403/1403 [==============================] - 18s 13ms/sample - loss: 0.0249 - accuracy: 0.9929 - val_loss: 0.1734 - val_accuracy: 0.9487\n",
      "Epoch 13/20\n",
      "1403/1403 [==============================] - 18s 13ms/sample - loss: 0.0313 - accuracy: 0.9879 - val_loss: 0.2194 - val_accuracy: 0.9380\n",
      "Epoch 14/20\n",
      "1403/1403 [==============================] - 18s 13ms/sample - loss: 0.0453 - accuracy: 0.9829 - val_loss: 0.1881 - val_accuracy: 0.9487\n",
      "Epoch 15/20\n",
      "1403/1403 [==============================] - 18s 13ms/sample - loss: 0.0188 - accuracy: 0.9929 - val_loss: 0.1850 - val_accuracy: 0.9487\n",
      "Epoch 16/20\n",
      "1403/1403 [==============================] - 18s 13ms/sample - loss: 0.0565 - accuracy: 0.9829 - val_loss: 0.3020 - val_accuracy: 0.8932\n",
      "Epoch 17/20\n",
      "1403/1403 [==============================] - 18s 13ms/sample - loss: 0.0584 - accuracy: 0.9765 - val_loss: 0.1595 - val_accuracy: 0.9509\n",
      "Epoch 18/20\n",
      "1403/1403 [==============================] - 18s 13ms/sample - loss: 0.0150 - accuracy: 0.9950 - val_loss: 0.2071 - val_accuracy: 0.9316\n",
      "Epoch 19/20\n",
      "1403/1403 [==============================] - 18s 13ms/sample - loss: 0.0177 - accuracy: 0.9936 - val_loss: 0.1640 - val_accuracy: 0.9551\n",
      "Epoch 20/20\n",
      "1403/1403 [==============================] - 18s 13ms/sample - loss: 0.0154 - accuracy: 0.9943 - val_loss: 0.1968 - val_accuracy: 0.9530\n"
     ]
    }
   ],
   "source": [
    "tf.compat.v1.disable_eager_execution()\n",
    "model.compile(loss='categorical_crossentropy',optimizer=Adam(learning_rate=0.001),metrics=['accuracy'])\n",
    "checkpoint = ModelCheckpoint('model-{epoch:03d}.model',monitor='val_loss',verbose=0,save_best_only=True,mode='auto')\n",
    "history=model.fit(train_data,train_target,callbacks=[checkpoint],epochs=20,validation_split=0.25)\n"
   ]
  },
  {
   "cell_type": "code",
   "execution_count": 16,
   "metadata": {},
   "outputs": [
    {
     "data": {
      "image/png": "[encoded data removed]",
      "text/plain": [
       "<Figure size 432x288 with 1 Axes>"
      ]
     },
     "metadata": {
      "needs_background": "light"
     },
     "output_type": "display_data"
    }
   ],
   "source": [
    "from matplotlib import pyplot as plt\n",
    "plt.plot(history.history['loss'],'r',label='training loss')\n",
    "plt.plot(history.history['val_loss'],label='validation loss')\n",
    "plt.xlabel('# epochs')\n",
    "plt.ylabel('loss')\n",
    "plt.legend()\n",
    "plt.show()"
   ]
  },
  {
   "cell_type": "code",
   "execution_count": 18,
   "metadata": {},
   "outputs": [
    {
     "data": {
      "image/png": "[encoded data removed]",
      "text/plain": [
       "<Figure size 432x288 with 1 Axes>"
      ]
     },
     "metadata": {
      "needs_background": "light"
     },
     "output_type": "display_data"
    }
   ],
   "source": [
    "plt.plot(history.history['accuracy'],'r',label='training accuracy')\n",
    "plt.plot(history.history['val_accuracy'],label='validation accuracy')\n",
    "plt.xlabel('# epochs')\n",
    "plt.ylabel('loss')\n",
    "plt.legend()\n",
    "plt.show()"
   ]
  },
  {
   "cell_type": "code",
   "execution_count": 24,
   "metadata": {},
   "outputs": [
    {
     "name": "stdout",
     "output_type": "stream",
     "text": [
      "accuracy: 94.71%\n"
     ]
    }
   ],
   "source": [
    "\n",
    "scores=model.evaluate(test_data,test_target,verbose=0)\n",
    "print(\"accuracy: %.2f%%\" % (scores[1]*100))"
   ]
  }
 ],
 "metadata": {
  "kernelspec": {
   "display_name": "Python 3 (ipykernel)",
   "language": "python",
   "name": "python3"
  },
  "language_info": {
   "codemirror_mode": {
    "name": "ipython",
    "version": 3
   },
   "file_extension": ".py",
   "mimetype": "text/x-python",
   "name": "python",
   "nbconvert_exporter": "python",
   "pygments_lexer": "ipython3",
   "version": "3.9.7"
  }
 },
 "nbformat": 4,
 "nbformat_minor": 2
}
